{
 "cells": [
  {
   "cell_type": "markdown",
   "id": "0ba3a00c-7e27-4dff-bec3-a5a05f9af800",
   "metadata": {},
   "source": [
    "## 카카오맵에서 천안시 카페 크롤링하는 코드"
   ]
  },
  {
   "cell_type": "code",
   "execution_count": 1,
   "id": "d802795c-5f83-4fc6-8d9f-e332463d9892",
   "metadata": {},
   "outputs": [],
   "source": [
    "import time\n",
    "import json\n",
    "import requests\n",
    "from selenium import webdriver\n",
    "from selenium.webdriver.common.by import By\n",
    "from selenium.webdriver.support.ui import WebDriverWait\n",
    "from selenium.webdriver.support import expected_conditions as EC\n",
    "from datetime import datetime\n",
    "from bs4 import BeautifulSoup\n",
    "from selenium.webdriver.common.keys import Keys"
   ]
  },
  {
   "cell_type": "code",
   "execution_count": 2,
   "id": "3bc50e22-d449-47a6-a013-be5aa3c1607a",
   "metadata": {},
   "outputs": [
    {
     "name": "stdout",
     "output_type": "stream",
     "text": [
      "https://map.kakao.com/\n"
     ]
    }
   ],
   "source": [
    "url = \"https://map.kakao.com\"\n",
    "\n",
    "driver = webdriver.Chrome()\n",
    "driver.get(url)\n",
    "time.sleep(2)\n",
    "print(driver.current_url)"
   ]
  },
  {
   "cell_type": "code",
   "execution_count": 3,
   "id": "f86100ed-6fc4-4f65-bae7-c7473eb1efa5",
   "metadata": {},
   "outputs": [],
   "source": [
    "search_input = WebDriverWait(driver, 10).until(\n",
    "        EC.presence_of_element_located((By.ID, \"search.keyword.query\"))\n",
    "    )\n",
    "search_input.send_keys(\"천안 카페\")\n",
    "time.sleep(3)\n",
    "\n",
    "dimmed_layer = WebDriverWait(driver, 10).until(\n",
    "        EC.presence_of_element_located((By.ID, \"dimmedLayer\"))\n",
    "    )\n",
    "dimmed_layer.click()\n",
    "\n",
    "search_button = driver.find_element(By.ID, \"search.keyword.submit\")\n",
    "search_button.click()\n",
    "\n",
    "time.sleep(3)"
   ]
  },
  {
   "cell_type": "code",
   "execution_count": 4,
   "id": "64e7530a-1cc6-442b-b9e9-05cb7db27ec9",
   "metadata": {},
   "outputs": [],
   "source": [
    "more_button = WebDriverWait(driver, 10).until(\n",
    "        EC.presence_of_element_located((By.ID, \"info.search.place.more\"))\n",
    "    )\n",
    "more_button.click()\n",
    "time.sleep(7)"
   ]
  },
  {
   "cell_type": "code",
   "execution_count": 5,
   "id": "da69462f-5e38-4a56-8c8b-354de8f97933",
   "metadata": {},
   "outputs": [],
   "source": [
    "import re\n",
    "def collect_data_from_page(page_number):\n",
    "    try:\n",
    "        page_link = WebDriverWait(driver, 10).until(\n",
    "            EC.presence_of_element_located((By.ID, f\"info.search.page.no{page_number}\"))\n",
    "        )\n",
    "        page_link.click()\n",
    "        \n",
    "        time.sleep(5)\n",
    "\n",
    "        page_source = driver.page_source\n",
    "        soup = BeautifulSoup(page_source, 'html.parser')\n",
    "        li_tags = soup.find_all('li', class_=re.compile('.*PlaceItem clickArea.*')) \n",
    "        # PlaceItem clickArea만 하면 하나씩 놓쳐서 re로 정규식 표현으로 그걸 포함하게 만들어주기\n",
    "        \n",
    "        print(len(li_tags)) # 디버깅으로 li 제대로 잘 잡히는지 확인\n",
    "        \n",
    "        for li in li_tags:\n",
    "            title_tag = li.find('span', {'data-id': 'screenOutName'})\n",
    "            address_tag = li.find('p', {'data-id': 'address'})\n",
    "            if title_tag and address_tag:\n",
    "                title = title_tag.get_text(strip=True)\n",
    "                address = address_tag.get_text(strip=True)\n",
    "                title_list.append(title)\n",
    "                address_list.append(address)\n",
    "    except Exception as e:\n",
    "        print(e)\n",
    "\n",
    "def click_next_button():\n",
    "    try:\n",
    "        next_button = WebDriverWait(driver, 10).until(\n",
    "            EC.presence_of_element_located((By.ID, \"info.search.page.next\"))\n",
    "        )\n",
    "        next_button.click()\n",
    "        time.sleep(5) \n",
    "    except Exception as e:\n",
    "        print(e)\n"
   ]
  },
  {
   "cell_type": "code",
   "execution_count": 6,
   "id": "142f8f06-df2c-497c-b743-3c954791e279",
   "metadata": {},
   "outputs": [],
   "source": [
    "title_list = []\n",
    "address_list = []"
   ]
  },
  {
   "cell_type": "code",
   "execution_count": 7,
   "id": "f484c227-ff7c-4c40-a2e9-81ff21bc47ab",
   "metadata": {},
   "outputs": [
    {
     "name": "stdout",
     "output_type": "stream",
     "text": [
      "15\n",
      "15\n",
      "15\n",
      "15\n",
      "15\n"
     ]
    }
   ],
   "source": [
    "for page_num in (range(1, 6)):  \n",
    "    collect_data_from_page(page_num)\n",
    "    if page_num == 5:\n",
    "        click_next_button()"
   ]
  },
  {
   "cell_type": "code",
   "execution_count": 8,
   "id": "c1e68b37-98e2-4932-8885-83023af09215",
   "metadata": {},
   "outputs": [
    {
     "name": "stdout",
     "output_type": "stream",
     "text": [
      "15\n",
      "15\n",
      "15\n",
      "15\n",
      "15\n",
      "15\n",
      "15\n",
      "15\n",
      "15\n",
      "15\n",
      "15\n",
      "15\n",
      "15\n",
      "15\n",
      "15\n",
      "15\n",
      "15\n",
      "15\n",
      "15\n",
      "15\n",
      "15\n",
      "15\n",
      "15\n",
      "15\n",
      "15\n"
     ]
    }
   ],
   "source": [
    "for i in range(5):\n",
    "    for page_num in (range(1, 6)):  \n",
    "        collect_data_from_page(page_num)\n",
    "        if page_num == 5:\n",
    "            click_next_button()"
   ]
  },
  {
   "cell_type": "code",
   "execution_count": 9,
   "id": "d2e2ec10-291e-42dd-9bfc-2c4b9be1fff9",
   "metadata": {},
   "outputs": [
    {
     "name": "stdout",
     "output_type": "stream",
     "text": [
      "15\n",
      "15\n",
      "15\n",
      "5\n"
     ]
    }
   ],
   "source": [
    "for page_num in (range(1, 5)):  \n",
    "    collect_data_from_page(page_num)"
   ]
  },
  {
   "cell_type": "code",
   "execution_count": 10,
   "id": "d9c0025a-8f95-44f2-8e6f-c64e2710f02b",
   "metadata": {},
   "outputs": [
    {
     "data": {
      "text/plain": [
       "(500, 500)"
      ]
     },
     "execution_count": 10,
     "metadata": {},
     "output_type": "execute_result"
    }
   ],
   "source": [
    "len(title_list), len(address_list)"
   ]
  },
  {
   "cell_type": "code",
   "execution_count": 11,
   "id": "f142ed19-0d6c-4f75-98f2-790174f8e546",
   "metadata": {},
   "outputs": [
    {
     "data": {
      "text/html": [
       "<div>\n",
       "<style scoped>\n",
       "    .dataframe tbody tr th:only-of-type {\n",
       "        vertical-align: middle;\n",
       "    }\n",
       "\n",
       "    .dataframe tbody tr th {\n",
       "        vertical-align: top;\n",
       "    }\n",
       "\n",
       "    .dataframe thead th {\n",
       "        text-align: right;\n",
       "    }\n",
       "</style>\n",
       "<table border=\"1\" class=\"dataframe\">\n",
       "  <thead>\n",
       "    <tr style=\"text-align: right;\">\n",
       "      <th></th>\n",
       "      <th>Title</th>\n",
       "      <th>Address</th>\n",
       "    </tr>\n",
       "  </thead>\n",
       "  <tbody>\n",
       "    <tr>\n",
       "      <th>0</th>\n",
       "      <td>카페이숲</td>\n",
       "      <td>충남 천안시 서북구 성거읍 남창마을1길 32 1층</td>\n",
       "    </tr>\n",
       "    <tr>\n",
       "      <th>1</th>\n",
       "      <td>블렌데렌</td>\n",
       "      <td>충남 천안시 동남구 먹거리8길 5 1, 2층</td>\n",
       "    </tr>\n",
       "    <tr>\n",
       "      <th>2</th>\n",
       "      <td>그리고스페셜티</td>\n",
       "      <td>충남 천안시 동남구 유량로 104</td>\n",
       "    </tr>\n",
       "    <tr>\n",
       "      <th>3</th>\n",
       "      <td>오월의숲</td>\n",
       "      <td>충남 천안시 서북구 세관길 78</td>\n",
       "    </tr>\n",
       "    <tr>\n",
       "      <th>4</th>\n",
       "      <td>유얼스</td>\n",
       "      <td>충남 천안시 서북구 불당31길 37</td>\n",
       "    </tr>\n",
       "    <tr>\n",
       "      <th>...</th>\n",
       "      <td>...</td>\n",
       "      <td>...</td>\n",
       "    </tr>\n",
       "    <tr>\n",
       "      <th>495</th>\n",
       "      <td>메가MGC커피 천안용곡한라점</td>\n",
       "      <td>충남 천안시 동남구 새말1길 55 2층</td>\n",
       "    </tr>\n",
       "    <tr>\n",
       "      <th>496</th>\n",
       "      <td>카페다빈제과</td>\n",
       "      <td>충남 천안시 서북구 한들3로 35-11 1층</td>\n",
       "    </tr>\n",
       "    <tr>\n",
       "      <th>497</th>\n",
       "      <td>북촌카페</td>\n",
       "      <td>충남 천안시 서북구 직산읍 성진로 422</td>\n",
       "    </tr>\n",
       "    <tr>\n",
       "      <th>498</th>\n",
       "      <td>할리스 동천안우체국점</td>\n",
       "      <td>충남 천안시 동남구 청수5로 10 1층</td>\n",
       "    </tr>\n",
       "    <tr>\n",
       "      <th>499</th>\n",
       "      <td>컴포즈커피 천안백석아이파크점</td>\n",
       "      <td>충남 천안시 서북구 한들3로 35-12 1층 105호</td>\n",
       "    </tr>\n",
       "  </tbody>\n",
       "</table>\n",
       "<p>500 rows × 2 columns</p>\n",
       "</div>"
      ],
      "text/plain": [
       "               Title                        Address\n",
       "0               카페이숲    충남 천안시 서북구 성거읍 남창마을1길 32 1층\n",
       "1               블렌데렌       충남 천안시 동남구 먹거리8길 5 1, 2층\n",
       "2            그리고스페셜티             충남 천안시 동남구 유량로 104\n",
       "3               오월의숲              충남 천안시 서북구 세관길 78\n",
       "4                유얼스            충남 천안시 서북구 불당31길 37\n",
       "..               ...                            ...\n",
       "495  메가MGC커피 천안용곡한라점          충남 천안시 동남구 새말1길 55 2층\n",
       "496           카페다빈제과       충남 천안시 서북구 한들3로 35-11 1층\n",
       "497             북촌카페         충남 천안시 서북구 직산읍 성진로 422\n",
       "498      할리스 동천안우체국점          충남 천안시 동남구 청수5로 10 1층\n",
       "499  컴포즈커피 천안백석아이파크점  충남 천안시 서북구 한들3로 35-12 1층 105호\n",
       "\n",
       "[500 rows x 2 columns]"
      ]
     },
     "execution_count": 11,
     "metadata": {},
     "output_type": "execute_result"
    }
   ],
   "source": [
    "import pandas as pd\n",
    "df = pd.DataFrame({\n",
    "    'Title': title_list,\n",
    "    'Address': address_list\n",
    "})\n",
    "df"
   ]
  },
  {
   "cell_type": "code",
   "execution_count": 28,
   "id": "612cdff0-fa81-4f55-91a4-b713be548c41",
   "metadata": {},
   "outputs": [],
   "source": [
    "df.to_csv(\"./data/Cheonan_Cafe_Crawling.csv\", index=False)"
   ]
  },
  {
   "cell_type": "code",
   "execution_count": null,
   "id": "32bd9648-a02b-4b24-8e09-b50bcae3649e",
   "metadata": {},
   "outputs": [],
   "source": []
  }
 ],
 "metadata": {
  "kernelspec": {
   "display_name": "Python 3 (ipykernel)",
   "language": "python",
   "name": "python3"
  },
  "language_info": {
   "codemirror_mode": {
    "name": "ipython",
    "version": 3
   },
   "file_extension": ".py",
   "mimetype": "text/x-python",
   "name": "python",
   "nbconvert_exporter": "python",
   "pygments_lexer": "ipython3",
   "version": "3.11.9"
  }
 },
 "nbformat": 4,
 "nbformat_minor": 5
}
